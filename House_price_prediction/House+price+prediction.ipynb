{
 "cells": [
  {
   "cell_type": "code",
   "execution_count": 1,
   "id": "ba797a01",
   "metadata": {},
   "outputs": [],
   "source": [
    "import pandas as pd\n",
    "import numpy as np\n",
    "\n",
    "from matplotlib import pyplot as plt\n",
    "import seaborn as sns\n",
    "%matplotlib inline\n",
    "\n",
    "from sklearn.linear_model import LinearRegression, Ridge, Lasso\n",
    "from sklearn.ensemble import RandomForestRegressor\n",
    "from sklearn.model_selection import cross_val_score, train_test_split, GridSearchCV"
   ]
  },
  {
   "cell_type": "code",
   "execution_count": 2,
   "id": "4885068e",
   "metadata": {},
   "outputs": [],
   "source": [
    "# df=pd.read_csv('houseprice.csv')\n",
    "df = pd.read_csv('/Users/vaideesh/Documents/Jupyter notebooks/Code academy/Streeteasy MLR/streeteasy.csv')"
   ]
  },
  {
   "cell_type": "code",
   "execution_count": 3,
   "id": "55b834c8",
   "metadata": {},
   "outputs": [
    {
     "data": {
      "text/html": [
       "<div>\n",
       "<style scoped>\n",
       "    .dataframe tbody tr th:only-of-type {\n",
       "        vertical-align: middle;\n",
       "    }\n",
       "\n",
       "    .dataframe tbody tr th {\n",
       "        vertical-align: top;\n",
       "    }\n",
       "\n",
       "    .dataframe thead th {\n",
       "        text-align: right;\n",
       "    }\n",
       "</style>\n",
       "<table border=\"1\" class=\"dataframe\">\n",
       "  <thead>\n",
       "    <tr style=\"text-align: right;\">\n",
       "      <th></th>\n",
       "      <th>rental_id</th>\n",
       "      <th>building_id</th>\n",
       "      <th>rent</th>\n",
       "      <th>bedrooms</th>\n",
       "      <th>bathrooms</th>\n",
       "      <th>size_sqft</th>\n",
       "      <th>min_to_subway</th>\n",
       "      <th>floor</th>\n",
       "      <th>building_age_yrs</th>\n",
       "      <th>no_fee</th>\n",
       "      <th>has_roofdeck</th>\n",
       "      <th>has_washer_dryer</th>\n",
       "      <th>has_doorman</th>\n",
       "      <th>has_elevator</th>\n",
       "      <th>has_dishwasher</th>\n",
       "      <th>has_patio</th>\n",
       "      <th>has_gym</th>\n",
       "      <th>neighborhood</th>\n",
       "      <th>submarket</th>\n",
       "      <th>borough</th>\n",
       "    </tr>\n",
       "  </thead>\n",
       "  <tbody>\n",
       "    <tr>\n",
       "      <th>0</th>\n",
       "      <td>1545</td>\n",
       "      <td>44518357</td>\n",
       "      <td>2550</td>\n",
       "      <td>0.0</td>\n",
       "      <td>1</td>\n",
       "      <td>480</td>\n",
       "      <td>9</td>\n",
       "      <td>2.0</td>\n",
       "      <td>17</td>\n",
       "      <td>1</td>\n",
       "      <td>1</td>\n",
       "      <td>0</td>\n",
       "      <td>0</td>\n",
       "      <td>1</td>\n",
       "      <td>1</td>\n",
       "      <td>0</td>\n",
       "      <td>1</td>\n",
       "      <td>Upper East Side</td>\n",
       "      <td>All Upper East Side</td>\n",
       "      <td>Manhattan</td>\n",
       "    </tr>\n",
       "    <tr>\n",
       "      <th>1</th>\n",
       "      <td>2472</td>\n",
       "      <td>94441623</td>\n",
       "      <td>11500</td>\n",
       "      <td>2.0</td>\n",
       "      <td>2</td>\n",
       "      <td>2000</td>\n",
       "      <td>4</td>\n",
       "      <td>1.0</td>\n",
       "      <td>96</td>\n",
       "      <td>0</td>\n",
       "      <td>0</td>\n",
       "      <td>0</td>\n",
       "      <td>0</td>\n",
       "      <td>0</td>\n",
       "      <td>0</td>\n",
       "      <td>0</td>\n",
       "      <td>0</td>\n",
       "      <td>Greenwich Village</td>\n",
       "      <td>All Downtown</td>\n",
       "      <td>Manhattan</td>\n",
       "    </tr>\n",
       "    <tr>\n",
       "      <th>2</th>\n",
       "      <td>10234</td>\n",
       "      <td>87632265</td>\n",
       "      <td>3000</td>\n",
       "      <td>3.0</td>\n",
       "      <td>1</td>\n",
       "      <td>1000</td>\n",
       "      <td>4</td>\n",
       "      <td>1.0</td>\n",
       "      <td>106</td>\n",
       "      <td>0</td>\n",
       "      <td>0</td>\n",
       "      <td>0</td>\n",
       "      <td>0</td>\n",
       "      <td>0</td>\n",
       "      <td>0</td>\n",
       "      <td>0</td>\n",
       "      <td>0</td>\n",
       "      <td>Astoria</td>\n",
       "      <td>Northwest Queens</td>\n",
       "      <td>Queens</td>\n",
       "    </tr>\n",
       "    <tr>\n",
       "      <th>3</th>\n",
       "      <td>2919</td>\n",
       "      <td>76909719</td>\n",
       "      <td>4500</td>\n",
       "      <td>1.0</td>\n",
       "      <td>1</td>\n",
       "      <td>916</td>\n",
       "      <td>2</td>\n",
       "      <td>51.0</td>\n",
       "      <td>29</td>\n",
       "      <td>0</td>\n",
       "      <td>1</td>\n",
       "      <td>0</td>\n",
       "      <td>1</td>\n",
       "      <td>1</td>\n",
       "      <td>1</td>\n",
       "      <td>0</td>\n",
       "      <td>0</td>\n",
       "      <td>Midtown</td>\n",
       "      <td>All Midtown</td>\n",
       "      <td>Manhattan</td>\n",
       "    </tr>\n",
       "    <tr>\n",
       "      <th>4</th>\n",
       "      <td>2790</td>\n",
       "      <td>92953520</td>\n",
       "      <td>4795</td>\n",
       "      <td>1.0</td>\n",
       "      <td>1</td>\n",
       "      <td>975</td>\n",
       "      <td>3</td>\n",
       "      <td>8.0</td>\n",
       "      <td>31</td>\n",
       "      <td>0</td>\n",
       "      <td>0</td>\n",
       "      <td>0</td>\n",
       "      <td>1</td>\n",
       "      <td>1</td>\n",
       "      <td>1</td>\n",
       "      <td>0</td>\n",
       "      <td>1</td>\n",
       "      <td>Greenwich Village</td>\n",
       "      <td>All Downtown</td>\n",
       "      <td>Manhattan</td>\n",
       "    </tr>\n",
       "  </tbody>\n",
       "</table>\n",
       "</div>"
      ],
      "text/plain": [
       "   rental_id  building_id   rent  bedrooms  bathrooms  size_sqft  \\\n",
       "0       1545     44518357   2550       0.0          1        480   \n",
       "1       2472     94441623  11500       2.0          2       2000   \n",
       "2      10234     87632265   3000       3.0          1       1000   \n",
       "3       2919     76909719   4500       1.0          1        916   \n",
       "4       2790     92953520   4795       1.0          1        975   \n",
       "\n",
       "   min_to_subway  floor  building_age_yrs  no_fee  has_roofdeck  \\\n",
       "0              9    2.0                17       1             1   \n",
       "1              4    1.0                96       0             0   \n",
       "2              4    1.0               106       0             0   \n",
       "3              2   51.0                29       0             1   \n",
       "4              3    8.0                31       0             0   \n",
       "\n",
       "   has_washer_dryer  has_doorman  has_elevator  has_dishwasher  has_patio  \\\n",
       "0                 0            0             1               1          0   \n",
       "1                 0            0             0               0          0   \n",
       "2                 0            0             0               0          0   \n",
       "3                 0            1             1               1          0   \n",
       "4                 0            1             1               1          0   \n",
       "\n",
       "   has_gym       neighborhood            submarket    borough  \n",
       "0        1    Upper East Side  All Upper East Side  Manhattan  \n",
       "1        0  Greenwich Village         All Downtown  Manhattan  \n",
       "2        0            Astoria     Northwest Queens     Queens  \n",
       "3        0            Midtown          All Midtown  Manhattan  \n",
       "4        1  Greenwich Village         All Downtown  Manhattan  "
      ]
     },
     "execution_count": 3,
     "metadata": {},
     "output_type": "execute_result"
    }
   ],
   "source": [
    "df.head()"
   ]
  },
  {
   "cell_type": "code",
   "execution_count": 4,
   "id": "b78384aa",
   "metadata": {},
   "outputs": [
    {
     "data": {
      "text/plain": [
       "(5000, 20)"
      ]
     },
     "execution_count": 4,
     "metadata": {},
     "output_type": "execute_result"
    }
   ],
   "source": [
    "df.shape"
   ]
  },
  {
   "cell_type": "code",
   "execution_count": 5,
   "id": "b536a798",
   "metadata": {},
   "outputs": [
    {
     "data": {
      "text/html": [
       "<div>\n",
       "<style scoped>\n",
       "    .dataframe tbody tr th:only-of-type {\n",
       "        vertical-align: middle;\n",
       "    }\n",
       "\n",
       "    .dataframe tbody tr th {\n",
       "        vertical-align: top;\n",
       "    }\n",
       "\n",
       "    .dataframe thead th {\n",
       "        text-align: right;\n",
       "    }\n",
       "</style>\n",
       "<table border=\"1\" class=\"dataframe\">\n",
       "  <thead>\n",
       "    <tr style=\"text-align: right;\">\n",
       "      <th></th>\n",
       "      <th>rental_id</th>\n",
       "      <th>building_id</th>\n",
       "      <th>rent</th>\n",
       "      <th>bedrooms</th>\n",
       "      <th>bathrooms</th>\n",
       "      <th>size_sqft</th>\n",
       "      <th>min_to_subway</th>\n",
       "      <th>floor</th>\n",
       "      <th>building_age_yrs</th>\n",
       "      <th>no_fee</th>\n",
       "      <th>has_roofdeck</th>\n",
       "      <th>has_washer_dryer</th>\n",
       "      <th>has_doorman</th>\n",
       "      <th>has_elevator</th>\n",
       "      <th>has_dishwasher</th>\n",
       "      <th>has_patio</th>\n",
       "      <th>has_gym</th>\n",
       "    </tr>\n",
       "  </thead>\n",
       "  <tbody>\n",
       "    <tr>\n",
       "      <th>count</th>\n",
       "      <td>5000.000000</td>\n",
       "      <td>5.000000e+03</td>\n",
       "      <td>5000.000000</td>\n",
       "      <td>5000.000000</td>\n",
       "      <td>5000.000000</td>\n",
       "      <td>5000.000000</td>\n",
       "      <td>5000.000000</td>\n",
       "      <td>5000.000000</td>\n",
       "      <td>5000.000000</td>\n",
       "      <td>5000.000000</td>\n",
       "      <td>5000.00000</td>\n",
       "      <td>5000.000000</td>\n",
       "      <td>5000.000000</td>\n",
       "      <td>5000.000000</td>\n",
       "      <td>5000.000000</td>\n",
       "      <td>5000.000000</td>\n",
       "      <td>5000.000000</td>\n",
       "    </tr>\n",
       "    <tr>\n",
       "      <th>mean</th>\n",
       "      <td>5526.909400</td>\n",
       "      <td>5.122007e+07</td>\n",
       "      <td>4536.920800</td>\n",
       "      <td>1.395700</td>\n",
       "      <td>1.321600</td>\n",
       "      <td>920.101400</td>\n",
       "      <td>5.079200</td>\n",
       "      <td>10.190200</td>\n",
       "      <td>52.093200</td>\n",
       "      <td>0.429600</td>\n",
       "      <td>0.12860</td>\n",
       "      <td>0.133800</td>\n",
       "      <td>0.228000</td>\n",
       "      <td>0.240000</td>\n",
       "      <td>0.155600</td>\n",
       "      <td>0.045600</td>\n",
       "      <td>0.143800</td>\n",
       "    </tr>\n",
       "    <tr>\n",
       "      <th>std</th>\n",
       "      <td>3263.692417</td>\n",
       "      <td>2.802283e+07</td>\n",
       "      <td>2929.838953</td>\n",
       "      <td>0.961018</td>\n",
       "      <td>0.565542</td>\n",
       "      <td>440.150464</td>\n",
       "      <td>5.268897</td>\n",
       "      <td>10.565361</td>\n",
       "      <td>40.224501</td>\n",
       "      <td>0.495069</td>\n",
       "      <td>0.33479</td>\n",
       "      <td>0.340471</td>\n",
       "      <td>0.419585</td>\n",
       "      <td>0.427126</td>\n",
       "      <td>0.362512</td>\n",
       "      <td>0.208637</td>\n",
       "      <td>0.350922</td>\n",
       "    </tr>\n",
       "    <tr>\n",
       "      <th>min</th>\n",
       "      <td>1.000000</td>\n",
       "      <td>7.107000e+03</td>\n",
       "      <td>1250.000000</td>\n",
       "      <td>0.000000</td>\n",
       "      <td>0.000000</td>\n",
       "      <td>250.000000</td>\n",
       "      <td>0.000000</td>\n",
       "      <td>0.000000</td>\n",
       "      <td>0.000000</td>\n",
       "      <td>0.000000</td>\n",
       "      <td>0.00000</td>\n",
       "      <td>0.000000</td>\n",
       "      <td>0.000000</td>\n",
       "      <td>0.000000</td>\n",
       "      <td>0.000000</td>\n",
       "      <td>0.000000</td>\n",
       "      <td>0.000000</td>\n",
       "    </tr>\n",
       "    <tr>\n",
       "      <th>25%</th>\n",
       "      <td>2699.750000</td>\n",
       "      <td>2.699811e+07</td>\n",
       "      <td>2750.000000</td>\n",
       "      <td>1.000000</td>\n",
       "      <td>1.000000</td>\n",
       "      <td>633.000000</td>\n",
       "      <td>2.000000</td>\n",
       "      <td>3.000000</td>\n",
       "      <td>12.000000</td>\n",
       "      <td>0.000000</td>\n",
       "      <td>0.00000</td>\n",
       "      <td>0.000000</td>\n",
       "      <td>0.000000</td>\n",
       "      <td>0.000000</td>\n",
       "      <td>0.000000</td>\n",
       "      <td>0.000000</td>\n",
       "      <td>0.000000</td>\n",
       "    </tr>\n",
       "    <tr>\n",
       "      <th>50%</th>\n",
       "      <td>5456.500000</td>\n",
       "      <td>5.069894e+07</td>\n",
       "      <td>3600.000000</td>\n",
       "      <td>1.000000</td>\n",
       "      <td>1.000000</td>\n",
       "      <td>800.000000</td>\n",
       "      <td>4.000000</td>\n",
       "      <td>6.000000</td>\n",
       "      <td>44.000000</td>\n",
       "      <td>0.000000</td>\n",
       "      <td>0.00000</td>\n",
       "      <td>0.000000</td>\n",
       "      <td>0.000000</td>\n",
       "      <td>0.000000</td>\n",
       "      <td>0.000000</td>\n",
       "      <td>0.000000</td>\n",
       "      <td>0.000000</td>\n",
       "    </tr>\n",
       "    <tr>\n",
       "      <th>75%</th>\n",
       "      <td>8306.000000</td>\n",
       "      <td>7.572064e+07</td>\n",
       "      <td>5200.000000</td>\n",
       "      <td>2.000000</td>\n",
       "      <td>2.000000</td>\n",
       "      <td>1094.000000</td>\n",
       "      <td>6.000000</td>\n",
       "      <td>14.000000</td>\n",
       "      <td>89.000000</td>\n",
       "      <td>1.000000</td>\n",
       "      <td>0.00000</td>\n",
       "      <td>0.000000</td>\n",
       "      <td>0.000000</td>\n",
       "      <td>0.000000</td>\n",
       "      <td>0.000000</td>\n",
       "      <td>0.000000</td>\n",
       "      <td>0.000000</td>\n",
       "    </tr>\n",
       "    <tr>\n",
       "      <th>max</th>\n",
       "      <td>11349.000000</td>\n",
       "      <td>9.998721e+07</td>\n",
       "      <td>20000.000000</td>\n",
       "      <td>5.000000</td>\n",
       "      <td>5.000000</td>\n",
       "      <td>4800.000000</td>\n",
       "      <td>51.000000</td>\n",
       "      <td>83.000000</td>\n",
       "      <td>180.000000</td>\n",
       "      <td>1.000000</td>\n",
       "      <td>1.00000</td>\n",
       "      <td>1.000000</td>\n",
       "      <td>1.000000</td>\n",
       "      <td>1.000000</td>\n",
       "      <td>1.000000</td>\n",
       "      <td>1.000000</td>\n",
       "      <td>1.000000</td>\n",
       "    </tr>\n",
       "  </tbody>\n",
       "</table>\n",
       "</div>"
      ],
      "text/plain": [
       "          rental_id   building_id          rent     bedrooms    bathrooms  \\\n",
       "count   5000.000000  5.000000e+03   5000.000000  5000.000000  5000.000000   \n",
       "mean    5526.909400  5.122007e+07   4536.920800     1.395700     1.321600   \n",
       "std     3263.692417  2.802283e+07   2929.838953     0.961018     0.565542   \n",
       "min        1.000000  7.107000e+03   1250.000000     0.000000     0.000000   \n",
       "25%     2699.750000  2.699811e+07   2750.000000     1.000000     1.000000   \n",
       "50%     5456.500000  5.069894e+07   3600.000000     1.000000     1.000000   \n",
       "75%     8306.000000  7.572064e+07   5200.000000     2.000000     2.000000   \n",
       "max    11349.000000  9.998721e+07  20000.000000     5.000000     5.000000   \n",
       "\n",
       "         size_sqft  min_to_subway        floor  building_age_yrs       no_fee  \\\n",
       "count  5000.000000    5000.000000  5000.000000       5000.000000  5000.000000   \n",
       "mean    920.101400       5.079200    10.190200         52.093200     0.429600   \n",
       "std     440.150464       5.268897    10.565361         40.224501     0.495069   \n",
       "min     250.000000       0.000000     0.000000          0.000000     0.000000   \n",
       "25%     633.000000       2.000000     3.000000         12.000000     0.000000   \n",
       "50%     800.000000       4.000000     6.000000         44.000000     0.000000   \n",
       "75%    1094.000000       6.000000    14.000000         89.000000     1.000000   \n",
       "max    4800.000000      51.000000    83.000000        180.000000     1.000000   \n",
       "\n",
       "       has_roofdeck  has_washer_dryer  has_doorman  has_elevator  \\\n",
       "count    5000.00000       5000.000000  5000.000000   5000.000000   \n",
       "mean        0.12860          0.133800     0.228000      0.240000   \n",
       "std         0.33479          0.340471     0.419585      0.427126   \n",
       "min         0.00000          0.000000     0.000000      0.000000   \n",
       "25%         0.00000          0.000000     0.000000      0.000000   \n",
       "50%         0.00000          0.000000     0.000000      0.000000   \n",
       "75%         0.00000          0.000000     0.000000      0.000000   \n",
       "max         1.00000          1.000000     1.000000      1.000000   \n",
       "\n",
       "       has_dishwasher    has_patio      has_gym  \n",
       "count     5000.000000  5000.000000  5000.000000  \n",
       "mean         0.155600     0.045600     0.143800  \n",
       "std          0.362512     0.208637     0.350922  \n",
       "min          0.000000     0.000000     0.000000  \n",
       "25%          0.000000     0.000000     0.000000  \n",
       "50%          0.000000     0.000000     0.000000  \n",
       "75%          0.000000     0.000000     0.000000  \n",
       "max          1.000000     1.000000     1.000000  "
      ]
     },
     "execution_count": 5,
     "metadata": {},
     "output_type": "execute_result"
    }
   ],
   "source": [
    "df.describe()"
   ]
  },
  {
   "cell_type": "code",
   "execution_count": 6,
   "id": "82a8ec6f",
   "metadata": {},
   "outputs": [
    {
     "name": "stdout",
     "output_type": "stream",
     "text": [
      "<class 'pandas.core.frame.DataFrame'>\n",
      "RangeIndex: 5000 entries, 0 to 4999\n",
      "Data columns (total 20 columns):\n",
      " #   Column            Non-Null Count  Dtype  \n",
      "---  ------            --------------  -----  \n",
      " 0   rental_id         5000 non-null   int64  \n",
      " 1   building_id       5000 non-null   int64  \n",
      " 2   rent              5000 non-null   int64  \n",
      " 3   bedrooms          5000 non-null   float64\n",
      " 4   bathrooms         5000 non-null   int64  \n",
      " 5   size_sqft         5000 non-null   int64  \n",
      " 6   min_to_subway     5000 non-null   int64  \n",
      " 7   floor             5000 non-null   float64\n",
      " 8   building_age_yrs  5000 non-null   int64  \n",
      " 9   no_fee            5000 non-null   int64  \n",
      " 10  has_roofdeck      5000 non-null   int64  \n",
      " 11  has_washer_dryer  5000 non-null   int64  \n",
      " 12  has_doorman       5000 non-null   int64  \n",
      " 13  has_elevator      5000 non-null   int64  \n",
      " 14  has_dishwasher    5000 non-null   int64  \n",
      " 15  has_patio         5000 non-null   int64  \n",
      " 16  has_gym           5000 non-null   int64  \n",
      " 17  neighborhood      5000 non-null   object \n",
      " 18  submarket         5000 non-null   object \n",
      " 19  borough           5000 non-null   object \n",
      "dtypes: float64(2), int64(15), object(3)\n",
      "memory usage: 781.4+ KB\n"
     ]
    }
   ],
   "source": [
    "df.info()"
   ]
  },
  {
   "cell_type": "code",
   "execution_count": 7,
   "id": "fe808a72",
   "metadata": {},
   "outputs": [
    {
     "data": {
      "text/html": [
       "<div>\n",
       "<style scoped>\n",
       "    .dataframe tbody tr th:only-of-type {\n",
       "        vertical-align: middle;\n",
       "    }\n",
       "\n",
       "    .dataframe tbody tr th {\n",
       "        vertical-align: top;\n",
       "    }\n",
       "\n",
       "    .dataframe thead th {\n",
       "        text-align: right;\n",
       "    }\n",
       "</style>\n",
       "<table border=\"1\" class=\"dataframe\">\n",
       "  <thead>\n",
       "    <tr style=\"text-align: right;\">\n",
       "      <th></th>\n",
       "      <th>MissvalCount</th>\n",
       "      <th>Percent</th>\n",
       "    </tr>\n",
       "  </thead>\n",
       "  <tbody>\n",
       "  </tbody>\n",
       "</table>\n",
       "</div>"
      ],
      "text/plain": [
       "Empty DataFrame\n",
       "Columns: [MissvalCount, Percent]\n",
       "Index: []"
      ]
     },
     "execution_count": 7,
     "metadata": {},
     "output_type": "execute_result"
    }
   ],
   "source": [
    "# Find columns with missing values and their percent missing\n",
    "df.isnull().sum()                                                     \n",
    "miss_val = df.isnull().sum().sort_values(ascending=False)\n",
    "miss_val = pd.DataFrame(data=df.isnull().sum().sort_values(ascending=False), columns=['MissvalCount'])\n",
    "\n",
    "# Add a new column to the dataframe and fill it with the percentage of missing values\n",
    "miss_val['Percent'] = miss_val.MissvalCount.apply(lambda x : '{:.2f}'.format(float(x)/df.shape[0] * 100)) \n",
    "miss_val = miss_val[miss_val.MissvalCount > 0]\n",
    "miss_val"
   ]
  },
  {
   "cell_type": "code",
   "execution_count": 8,
   "id": "b21626d5",
   "metadata": {},
   "outputs": [],
   "source": [
    "# drop columns with high missing values\n",
    "# df = df.drop(['Fence', 'MiscFeature', 'PoolQC','FireplaceQu','Alley'], axis=1)"
   ]
  },
  {
   "cell_type": "code",
   "execution_count": 9,
   "id": "4b736bbc",
   "metadata": {},
   "outputs": [],
   "source": [
    "#Drop rows with any missing values\n",
    "df.dropna(inplace=True)"
   ]
  },
  {
   "cell_type": "code",
   "execution_count": 10,
   "id": "83e7d6b9",
   "metadata": {},
   "outputs": [
    {
     "data": {
      "text/plain": [
       "(5000, 20)"
      ]
     },
     "execution_count": 10,
     "metadata": {},
     "output_type": "execute_result"
    }
   ],
   "source": [
    "df.shape"
   ]
  },
  {
   "cell_type": "code",
   "execution_count": 11,
   "id": "19ce3df7",
   "metadata": {},
   "outputs": [
    {
     "data": {
      "text/plain": [
       "<Axes: xlabel='rent', ylabel='Count'>"
      ]
     },
     "execution_count": 11,
     "metadata": {},
     "output_type": "execute_result"
    },
    {
     "data": {
      "image/png": "[encoded data removed]",
      "text/plain": [
       "<Figure size 640x480 with 1 Axes>"
      ]
     },
     "metadata": {},
     "output_type": "display_data"
    }
   ],
   "source": [
    "sns.histplot(df.rent)\n"
   ]
  },
  {
   "cell_type": "code",
   "execution_count": 12,
   "id": "c855e172",
   "metadata": {},
   "outputs": [
    {
     "data": {
      "text/plain": [
       "<Axes: xlabel='rent', ylabel='Count'>"
      ]
     },
     "execution_count": 12,
     "metadata": {},
     "output_type": "execute_result"
    },
    {
     "data": {
      "image/png": "[encoded data removed]",
      "text/plain": [
       "<Figure size 640x480 with 1 Axes>"
      ]
     },
     "metadata": {},
     "output_type": "display_data"
    }
   ],
   "source": [
    "sns.histplot(np.log(df.rent))"
   ]
  },
  {
   "cell_type": "code",
   "execution_count": 13,
   "id": "beddf123",
   "metadata": {},
   "outputs": [],
   "source": [
    "df['LogOfRent'] = np.log(df.rent)\n",
    "df.drop([\"rent\"], axis=1, inplace=True)"
   ]
  },
  {
   "cell_type": "code",
   "execution_count": 14,
   "id": "ea4ef48f",
   "metadata": {},
   "outputs": [
    {
     "data": {
      "text/plain": [
       "min_to_subway       4.718261\n",
       "has_patio           4.357637\n",
       "has_roofdeck        2.219591\n",
       "has_washer_dryer    2.151996\n",
       "has_gym             2.030894\n",
       "floor               2.004948\n",
       "has_dishwasher      1.900836\n",
       "size_sqft           1.898885\n",
       "bathrooms           1.601018\n",
       "has_doorman         1.297039\n",
       "has_elevator        1.217927\n",
       "LogOfRent           0.690333\n",
       "bedrooms            0.506958\n",
       "building_age_yrs    0.292160\n",
       "no_fee              0.284519\n",
       "rental_id           0.059618\n",
       "building_id        -0.044450\n",
       "dtype: float64"
      ]
     },
     "execution_count": 14,
     "metadata": {},
     "output_type": "execute_result"
    }
   ],
   "source": [
    " df.skew(numeric_only=True).sort_values(ascending=False)"
   ]
  },
  {
   "cell_type": "code",
   "execution_count": 15,
   "id": "1de85089",
   "metadata": {},
   "outputs": [],
   "source": [
    "# set the target and predictors\n",
    "y = df.LogOfRent  # target\n",
    "\n",
    "# use only those input features with numeric data type \n",
    "df_temp = df.select_dtypes(include=[\"int64\",\"float64\"]) \n",
    "X = df_temp.drop([\"LogOfRent\"],axis=1)  # predictors"
   ]
  },
  {
   "cell_type": "code",
   "execution_count": 16,
   "id": "0e4c77c4",
   "metadata": {},
   "outputs": [],
   "source": [
    "# split the dataset into train and test sets\n",
    "X_train, X_test, y_train, y_test = train_test_split(X, y, test_size = .20, random_state = 3)"
   ]
  },
  {
   "cell_type": "code",
   "execution_count": 17,
   "id": "352f7c42",
   "metadata": {},
   "outputs": [
    {
     "data": {
      "text/html": [
       "<style>#sk-container-id-1 {color: black;}#sk-container-id-1 pre{padding: 0;}#sk-container-id-1 div.sk-toggleable {background-color: white;}#sk-container-id-1 label.sk-toggleable__label {cursor: pointer;display: block;width: 100%;margin-bottom: 0;padding: 0.3em;box-sizing: border-box;text-align: center;}#sk-container-id-1 label.sk-toggleable__label-arrow:before {content: \"▸\";float: left;margin-right: 0.25em;color: #696969;}#sk-container-id-1 label.sk-toggleable__label-arrow:hover:before {color: black;}#sk-container-id-1 div.sk-estimator:hover label.sk-toggleable__label-arrow:before {color: black;}#sk-container-id-1 div.sk-toggleable__content {max-height: 0;max-width: 0;overflow: hidden;text-align: left;background-color: #f0f8ff;}#sk-container-id-1 div.sk-toggleable__content pre {margin: 0.2em;color: black;border-radius: 0.25em;background-color: #f0f8ff;}#sk-container-id-1 input.sk-toggleable__control:checked~div.sk-toggleable__content {max-height: 200px;max-width: 100%;overflow: auto;}#sk-container-id-1 input.sk-toggleable__control:checked~label.sk-toggleable__label-arrow:before {content: \"▾\";}#sk-container-id-1 div.sk-estimator input.sk-toggleable__control:checked~label.sk-toggleable__label {background-color: #d4ebff;}#sk-container-id-1 div.sk-label input.sk-toggleable__control:checked~label.sk-toggleable__label {background-color: #d4ebff;}#sk-container-id-1 input.sk-hidden--visually {border: 0;clip: rect(1px 1px 1px 1px);clip: rect(1px, 1px, 1px, 1px);height: 1px;margin: -1px;overflow: hidden;padding: 0;position: absolute;width: 1px;}#sk-container-id-1 div.sk-estimator {font-family: monospace;background-color: #f0f8ff;border: 1px dotted black;border-radius: 0.25em;box-sizing: border-box;margin-bottom: 0.5em;}#sk-container-id-1 div.sk-estimator:hover {background-color: #d4ebff;}#sk-container-id-1 div.sk-parallel-item::after {content: \"\";width: 100%;border-bottom: 1px solid gray;flex-grow: 1;}#sk-container-id-1 div.sk-label:hover label.sk-toggleable__label {background-color: #d4ebff;}#sk-container-id-1 div.sk-serial::before {content: \"\";position: absolute;border-left: 1px solid gray;box-sizing: border-box;top: 0;bottom: 0;left: 50%;z-index: 0;}#sk-container-id-1 div.sk-serial {display: flex;flex-direction: column;align-items: center;background-color: white;padding-right: 0.2em;padding-left: 0.2em;position: relative;}#sk-container-id-1 div.sk-item {position: relative;z-index: 1;}#sk-container-id-1 div.sk-parallel {display: flex;align-items: stretch;justify-content: center;background-color: white;position: relative;}#sk-container-id-1 div.sk-item::before, #sk-container-id-1 div.sk-parallel-item::before {content: \"\";position: absolute;border-left: 1px solid gray;box-sizing: border-box;top: 0;bottom: 0;left: 50%;z-index: -1;}#sk-container-id-1 div.sk-parallel-item {display: flex;flex-direction: column;z-index: 1;position: relative;background-color: white;}#sk-container-id-1 div.sk-parallel-item:first-child::after {align-self: flex-end;width: 50%;}#sk-container-id-1 div.sk-parallel-item:last-child::after {align-self: flex-start;width: 50%;}#sk-container-id-1 div.sk-parallel-item:only-child::after {width: 0;}#sk-container-id-1 div.sk-dashed-wrapped {border: 1px dashed gray;margin: 0 0.4em 0.5em 0.4em;box-sizing: border-box;padding-bottom: 0.4em;background-color: white;}#sk-container-id-1 div.sk-label label {font-family: monospace;font-weight: bold;display: inline-block;line-height: 1.2em;}#sk-container-id-1 div.sk-label-container {text-align: center;}#sk-container-id-1 div.sk-container {/* jupyter's `normalize.less` sets `[hidden] { display: none; }` but bootstrap.min.css set `[hidden] { display: none !important; }` so we also need the `!important` here to be able to override the default hidden behavior on the sphinx rendered scikit-learn.org. See: https://github.com/scikit-learn/scikit-learn/issues/21755 */display: inline-block !important;position: relative;}#sk-container-id-1 div.sk-text-repr-fallback {display: none;}</style><div id=\"sk-container-id-1\" class=\"sk-top-container\"><div class=\"sk-text-repr-fallback\"><pre>LinearRegression()</pre><b>In a Jupyter environment, please rerun this cell to show the HTML representation or trust the notebook. <br />On GitHub, the HTML representation is unable to render, please try loading this page with nbviewer.org.</b></div><div class=\"sk-container\" hidden><div class=\"sk-item\"><div class=\"sk-estimator sk-toggleable\"><input class=\"sk-toggleable__control sk-hidden--visually\" id=\"sk-estimator-id-1\" type=\"checkbox\" checked><label for=\"sk-estimator-id-1\" class=\"sk-toggleable__label sk-toggleable__label-arrow\">LinearRegression</label><div class=\"sk-toggleable__content\"><pre>LinearRegression()</pre></div></div></div></div></div>"
      ],
      "text/plain": [
       "LinearRegression()"
      ]
     },
     "execution_count": 17,
     "metadata": {},
     "output_type": "execute_result"
    }
   ],
   "source": [
    "lr = LinearRegression()\n",
    "# fit optimal linear regression line on training data, this performs gradient descent under the hood\n",
    "lr.fit(X_train, y_train)"
   ]
  },
  {
   "cell_type": "code",
   "execution_count": 18,
   "id": "8079d6fb",
   "metadata": {},
   "outputs": [],
   "source": [
    "yr_hat = lr.predict(X_test)"
   ]
  },
  {
   "cell_type": "code",
   "execution_count": 19,
   "id": "01d91223",
   "metadata": {},
   "outputs": [
    {
     "name": "stdout",
     "output_type": "stream",
     "text": [
      "Accuracy:  0.7195740890811599\n"
     ]
    }
   ],
   "source": [
    "# evaluate the algorithm with a test set \n",
    "lr_score = lr.score(X_test, y_test)  # train test \n",
    "print(\"Accuracy: \", lr_score)"
   ]
  },
  {
   "cell_type": "code",
   "execution_count": 20,
   "id": "f141a126",
   "metadata": {},
   "outputs": [
    {
     "name": "stdout",
     "output_type": "stream",
     "text": [
      "R2:  0.6884796705830724\n"
     ]
    }
   ],
   "source": [
    "# cross validation to find 'validate' score across multiple samples, automatically does Kfold stratifying\n",
    "lr_cv = cross_val_score(lr, X, y, cv = 30, scoring= 'r2')\n",
    "# print(\"Cross-validation results: \", lr_cv)\n",
    "print(\"R2: \", lr_cv.mean())"
   ]
  },
  {
   "cell_type": "code",
   "execution_count": 21,
   "id": "4ed080d8",
   "metadata": {},
   "outputs": [
    {
     "name": "stdout",
     "output_type": "stream",
     "text": [
      "Accuracy:  0.7875542963369214\n"
     ]
    }
   ],
   "source": [
    "import pandas as pd\n",
    "from sklearn.preprocessing import LabelEncoder\n",
    "label_encoder = LabelEncoder()\n",
    "x_categorical = df.select_dtypes(include=['object']).apply(label_encoder.fit_transform)\n",
    "x_numerical = df.select_dtypes(exclude=['object']).values\n",
    "x = pd.concat([pd.DataFrame(x_numerical), x_categorical], axis=1).values\n",
    "# Fitting Random Forest Regression to the dataset\n",
    "rfr = RandomForestRegressor(n_estimators=20, random_state=0, oob_score=True)\n",
    " \n",
    "# Fit the regressor with x and y data\n",
    "rfr.fit(X_train, y_train)\n",
    "rfr_score = rfr.score(X_test, y_test)  # train test \n",
    "print(\"Accuracy: \", rfr_score)"
   ]
  },
  {
   "cell_type": "code",
   "execution_count": 22,
   "id": "dd959d0b",
   "metadata": {},
   "outputs": [
    {
     "name": "stdout",
     "output_type": "stream",
     "text": [
      "R2:  0.7737342706309623\n"
     ]
    }
   ],
   "source": [
    "rfr_cv = cross_val_score(rfr, X, y, cv = 5, scoring= 'r2')\n",
    "print(\"R2: \", rfr_cv.mean())"
   ]
  },
  {
   "cell_type": "code",
   "execution_count": 24,
   "id": "346a7626",
   "metadata": {},
   "outputs": [
    {
     "name": "stdout",
     "output_type": "stream",
     "text": [
      "Out-of-Bag error: 0.2591887301989967\n",
      "Mean Squared Error: 0.05737033076470033\n",
      "R-squared: 0.7875542963369214\n"
     ]
    }
   ],
   "source": [
    "# Evaluating the model\n",
    "from sklearn.metrics import mean_squared_error, r2_score\n",
    " \n",
    "# Access the OOB Score\n",
    "oob_score = rfr.oob_score_\n",
    "print(f'Out-of-Bag error: {1-oob_score}')\n",
    " \n",
    "# Making predictions on the same data or new data\n",
    "predictions = rfr.predict(X_test)\n",
    " \n",
    "# Evaluating the model\n",
    "mse = mean_squared_error(y_test, predictions)\n",
    "print(f'Mean Squared Error: {mse}')\n",
    " \n",
    "r2 = r2_score(y_test, predictions)\n",
    "print(f'R-squared: {r2}')"
   ]
  },
  {
   "cell_type": "code",
   "execution_count": 25,
   "id": "171b4623",
   "metadata": {},
   "outputs": [
    {
     "data": {
      "text/plain": [
       "array([7.88326978, 9.02272938, 9.27008355, 7.81046796, 8.11886215,\n",
       "       8.39113422, 8.03287377, 9.16124965, 7.95223817, 8.21821645,\n",
       "       7.78452246, 8.07584083, 8.14750359, 8.33760073, 8.59248592,\n",
       "       7.77646038, 8.05601504, 8.32868765, 8.49289094, 8.73375175,\n",
       "       8.81868814, 7.75086866, 7.7695514 , 8.21288285, 8.31827551,\n",
       "       8.66761176, 8.2551126 , 7.85004384, 7.86363946, 8.21450112,\n",
       "       8.34936958, 8.55382176, 8.49395912, 8.03122959, 8.34274136,\n",
       "       7.8005066 , 7.80261736, 8.25690871, 8.12898007, 8.40495979,\n",
       "       8.26909045, 7.44995162, 8.52071097, 9.00729385, 8.08339483,\n",
       "       7.76453828, 7.81656229, 8.82621933, 8.00942312, 7.71655578,\n",
       "       8.72722937, 7.84333205, 8.1645987 , 9.54295955, 8.20109843,\n",
       "       7.79400596, 7.96252131, 9.21917117, 8.10381688, 8.86518882,\n",
       "       8.19797662, 8.69497632, 7.77760317, 7.92931967, 8.37923703,\n",
       "       7.97738226, 8.41119785, 8.72142222, 7.86271174, 8.2042685 ,\n",
       "       7.52703584, 8.41659467, 8.09437752, 8.72178983, 7.70170603,\n",
       "       8.04048852, 8.1476279 , 8.12077296, 8.2374646 , 7.97617946,\n",
       "       7.90374375, 7.99169947, 7.69441449, 7.73148429, 8.31943796,\n",
       "       9.60872321, 7.82602661, 8.2447138 , 8.13612807, 8.1969352 ,\n",
       "       8.09082866, 9.20770636, 9.09685394, 8.11291213, 7.7445509 ,\n",
       "       9.10957276, 8.51602296, 9.47679708, 8.25657474, 8.29661065,\n",
       "       8.86294763, 8.24206523, 8.81097694, 8.33482732, 8.24767724,\n",
       "       7.87565599, 8.05144457, 7.63308667, 8.62472042, 8.03069647,\n",
       "       8.22418334, 8.54835982, 9.03399461, 8.03612502, 8.28838825,\n",
       "       8.21279718, 8.4847872 , 8.42929329, 8.39876934, 8.14787723,\n",
       "       7.85751768, 8.10488433, 8.20986703, 7.82669263, 7.86479561,\n",
       "       9.41756658, 7.83154756, 8.18731883, 7.60054404, 8.2186306 ,\n",
       "       8.77143719, 9.02292714, 8.15724929, 8.38280355, 8.25572457,\n",
       "       8.13671897, 7.59838994, 8.06011408, 7.87148014, 7.87552495,\n",
       "       8.61074461, 8.09623817, 7.71442572, 7.89251457, 8.57047001,\n",
       "       8.3133387 , 8.21948459, 7.56757307, 8.2031252 , 8.10935586,\n",
       "       8.56088602, 8.13376585, 8.17268838, 8.34108441, 8.23667185,\n",
       "       7.71329395, 7.97705638, 8.5999456 , 7.87171427, 9.46881285,\n",
       "       7.81608242, 8.07557228, 8.47774808, 8.04945997, 9.06392129,\n",
       "       7.73897062, 7.87597596, 8.15079495, 8.1898863 , 8.39054557,\n",
       "       8.44867456, 7.8312571 , 7.90541622, 7.8300443 , 7.76217274,\n",
       "       7.74211554, 8.56203527, 8.22134827, 8.89226765, 9.24102245,\n",
       "       7.746906  , 8.04258632, 7.54013488, 7.66456702, 8.25551043,\n",
       "       8.36953489, 7.82909744, 8.04689391, 7.8078126 , 8.20566183,\n",
       "       8.92338355, 8.39472854, 8.50970709, 7.90882919, 8.1713692 ,\n",
       "       8.01359057, 7.90910472, 9.12319258, 8.03001853, 7.94952178,\n",
       "       8.72846048, 8.9152536 , 8.26790425, 8.03434908, 8.39646397,\n",
       "       9.09472771, 7.88108598, 8.22039267, 8.13599512, 8.22676028,\n",
       "       8.93013335, 8.35515387, 7.64743098, 8.02844604, 7.62210353,\n",
       "       8.45420761, 7.96338128, 7.89130273, 8.09108686, 8.06019264,\n",
       "       7.97484244, 8.50821689, 7.67531289, 8.18115327, 7.66935112,\n",
       "       7.86998141, 8.42192211, 8.52817269, 8.90013554, 7.89970438,\n",
       "       9.4837291 , 8.3541361 , 8.26026476, 8.5420947 , 8.85031072,\n",
       "       9.34789121, 8.51797445, 7.96979557, 8.34259511, 8.31877809,\n",
       "       8.03275411, 8.36201314, 8.9561638 , 8.41690653, 8.04851359,\n",
       "       8.17114585, 8.05362356, 7.97061589, 8.21716983, 7.96541987,\n",
       "       8.21261279, 8.06869303, 7.9944852 , 7.88068108, 8.25218252,\n",
       "       7.83406652, 7.68605723, 8.92966125, 8.60609923, 7.72644641,\n",
       "       8.00860422, 8.43342696, 7.78075054, 7.8800776 , 7.72251905,\n",
       "       8.14508913, 7.66622278, 8.42439202, 8.48563603, 8.98267389,\n",
       "       9.42052028, 7.88541324, 8.5518761 , 8.0189172 , 8.17198707,\n",
       "       8.14351388, 8.13702539, 7.54581646, 7.79703688, 8.00743488,\n",
       "       9.06324492, 8.16679889, 9.20326955, 7.84942125, 8.75701883,\n",
       "       8.11734976, 8.52101572, 7.5062327 , 7.88713231, 7.77238005,\n",
       "       8.00887459, 8.76066623, 8.2598052 , 9.30268732, 8.29817417,\n",
       "       8.24196861, 9.44696906, 7.7721854 , 8.0062184 , 8.01663142,\n",
       "       8.24114232, 8.70654863, 7.97444766, 8.8918467 , 7.90030541,\n",
       "       8.1353212 , 8.53821946, 7.87026699, 8.42763318, 8.12792341,\n",
       "       7.85087046, 8.32759342, 8.34460404, 8.51190231, 9.67830047,\n",
       "       7.97391448, 7.91835406, 8.11563018, 7.85312654, 8.12038865,\n",
       "       8.4205959 , 7.88003028, 8.0755216 , 8.13714728, 8.21267951,\n",
       "       8.02903862, 8.29622173, 9.53637327, 7.96919633, 9.28037362,\n",
       "       8.12939486, 8.63235304, 7.83729149, 8.21659328, 8.1719467 ,\n",
       "       7.85484412, 8.36780041, 8.14669113, 8.67192019, 8.17095799,\n",
       "       8.15344264, 7.88640398, 8.15400065, 7.89184493, 7.96947593,\n",
       "       8.08066437, 8.43204453, 8.00823322, 8.30955875, 8.45518007,\n",
       "       9.20071661, 7.69285912, 8.6654332 , 7.62111971, 9.61133247,\n",
       "       8.1555888 , 7.89288935, 8.67959298, 7.78833507, 8.25579646,\n",
       "       8.39262817, 7.98494784, 7.9081504 , 7.78726941, 8.1375585 ,\n",
       "       8.19741309, 8.06814256, 8.24977244, 8.39310704, 8.27515559,\n",
       "       8.62458588, 8.41175166, 7.97123875, 7.77785074, 8.21654775,\n",
       "       7.9038132 , 8.26773027, 8.45513878, 7.95379348, 8.46869726,\n",
       "       7.78095437, 8.04537895, 8.38441275, 8.0742404 , 8.10704905,\n",
       "       8.12213526, 7.97074586, 9.38728013, 7.87688474, 8.31341598,\n",
       "       8.25967537, 8.00631054, 8.82655637, 7.86157962, 8.08710058,\n",
       "       8.23706726, 8.17344852, 8.09175908, 8.86576546, 8.27932075,\n",
       "       7.81747887, 7.969113  , 8.67018221, 8.80369619, 7.90235264,\n",
       "       7.96126163, 8.42649036, 8.83323266, 8.27339628, 8.12239982,\n",
       "       8.65837542, 8.06138587, 8.07594584, 8.02061888, 7.66030727,\n",
       "       7.91463801, 8.96790465, 8.20768999, 8.98815555, 8.62698261,\n",
       "       8.27357065, 8.36670019, 8.09430827, 8.80824316, 8.60930198,\n",
       "       7.73445276, 7.94527653, 8.1004963 , 8.30391569, 7.99949327,\n",
       "       8.34155788, 8.04669299, 7.87010688, 7.7616926 , 8.49667883,\n",
       "       8.22862564, 7.54655683, 7.7227813 , 8.04523944, 9.56088129,\n",
       "       9.18023012, 8.41159182, 8.03883399, 7.9323343 , 8.32914131,\n",
       "       9.00511094, 7.78684137, 9.38582623, 7.92577511, 7.54663615,\n",
       "       7.92162339, 8.28020846, 7.89017758, 8.29376669, 8.188879  ,\n",
       "       7.90100602, 8.44084633, 7.65075653, 7.96831228, 8.15810259,\n",
       "       8.9437206 , 7.96569471, 7.89501703, 8.3368702 , 8.7786569 ,\n",
       "       7.8994303 , 8.00567066, 8.0441099 , 8.30098176, 8.03281828,\n",
       "       8.62290413, 8.48620452, 7.99778327, 7.72883844, 8.19616685,\n",
       "       8.46542083, 8.4794323 , 8.47032083, 8.24087149, 8.05215196,\n",
       "       8.48514335, 8.20567784, 8.25747039, 8.14687602, 9.09309431,\n",
       "       8.54698669, 8.42375707, 7.98495784, 8.00299301, 8.37039272,\n",
       "       7.89538426, 8.36991404, 8.35118153, 7.98761749, 7.87551505,\n",
       "       7.81976176, 8.15774118, 7.95167484, 9.63927631, 8.08767291,\n",
       "       7.76880887, 8.08276778, 8.30657037, 9.24612952, 8.53863897,\n",
       "       8.16775875, 8.60141789, 8.11844329, 8.01913102, 8.7323667 ,\n",
       "       8.15580744, 7.72083725, 7.91159005, 8.44126408, 8.22847523,\n",
       "       8.5938309 , 9.30108335, 9.51983246, 8.723314  , 8.25783119,\n",
       "       9.52063027, 8.28518549, 8.10655637, 8.06829282, 7.68949604,\n",
       "       7.97259945, 8.09058595, 8.2084159 , 7.90297015, 8.26778229,\n",
       "       7.69762824, 7.87975314, 8.47935848, 8.81450546, 8.51079597,\n",
       "       8.00958221, 8.0937986 , 8.52199755, 8.31552485, 7.96740996,\n",
       "       8.94781386, 7.54500901, 7.89634896, 8.53306562, 7.6527779 ,\n",
       "       8.95533864, 8.5746542 , 8.1871368 , 8.67195387, 8.16711897,\n",
       "       8.89749044, 7.89775147, 7.84187026, 7.89915599, 8.76960326,\n",
       "       7.74749314, 8.08798133, 8.26389975, 8.42018692, 7.75168136,\n",
       "       8.29480446, 9.55195319, 8.08899889, 7.98246413, 8.12238956,\n",
       "       9.28718816, 7.87767452, 7.59095685, 8.39044713, 8.0663151 ,\n",
       "       8.72268539, 8.24825664, 7.6850582 , 7.89875708, 8.1653754 ,\n",
       "       8.55424384, 9.14613626, 8.41854937, 8.30351364, 8.94151483,\n",
       "       7.81734316, 7.91704638, 8.72599459, 8.71042453, 8.50593685,\n",
       "       7.90558581, 7.63739753, 8.23747123, 9.31677256, 8.32103919,\n",
       "       8.7828323 , 8.7301323 , 8.67712289, 9.36401041, 9.18505757,\n",
       "       7.63188565, 8.92552197, 8.38444596, 7.87951821, 8.22129524,\n",
       "       8.53233577, 8.62229752, 7.91315616, 7.81071226, 7.76402817,\n",
       "       8.02834803, 8.18193081, 8.05316957, 9.31058136, 8.30890729,\n",
       "       8.02411911, 8.09958058, 8.03542568, 9.05482522, 7.7749455 ,\n",
       "       7.86466674, 9.29145313, 8.093351  , 7.95173189, 8.00010132,\n",
       "       7.97738226, 8.53958613, 7.51169721, 8.75577081, 9.36886621,\n",
       "       8.21835892, 8.13794456, 9.19542527, 7.93857969, 8.1255197 ,\n",
       "       9.24007417, 9.35539279, 8.1590045 , 8.56389524, 8.02248603,\n",
       "       8.25337365, 8.53643736, 8.01095742, 7.90811949, 8.32589121,\n",
       "       8.22606288, 7.90667294, 7.62296599, 9.1717315 , 9.19692975,\n",
       "       8.73829811, 9.10509867, 8.69758843, 8.17687109, 8.44508345,\n",
       "       8.48591133, 7.56911354, 8.87002195, 8.59491956, 7.65477083,\n",
       "       8.06745962, 7.93760031, 7.96656206, 8.16007774, 7.96260333,\n",
       "       7.87027993, 7.48278251, 7.99861201, 7.70158789, 8.6890616 ,\n",
       "       9.30638598, 8.93423121, 7.88056229, 8.59030627, 8.61839767,\n",
       "       7.67150343, 8.70498344, 7.81446072, 9.60154169, 8.08791664,\n",
       "       8.04868906, 7.471217  , 8.00603703, 8.72994294, 8.52793288,\n",
       "       7.93563951, 9.24431135, 8.11308801, 8.55610082, 9.3830522 ,\n",
       "       8.18727825, 8.26203628, 7.61000786, 8.21333211, 8.28413841,\n",
       "       8.12018343, 7.80227997, 9.42467776, 7.85928586, 7.60193585,\n",
       "       8.69731147, 7.67219727, 8.45153997, 8.08667455, 8.6373056 ,\n",
       "       7.98677182, 8.0407095 , 7.80773865, 8.14344152, 7.88262403,\n",
       "       7.69068547, 8.22772334, 8.17552833, 9.53214956, 7.96265093,\n",
       "       8.168103  , 8.42084094, 8.4525284 , 8.30787745, 8.17747082,\n",
       "       8.74534583, 7.65495468, 7.80074374, 7.93726296, 8.1386708 ,\n",
       "       8.08190224, 8.16098157, 8.78690284, 7.67595322, 7.95857458,\n",
       "       7.9863395 , 8.43429456, 7.95692287, 8.07952433, 8.4361192 ,\n",
       "       8.33469679, 8.89110333, 7.93840273, 9.17869314, 8.71598527,\n",
       "       7.93596014, 9.19143095, 7.6900732 , 9.23503012, 7.98510359,\n",
       "       7.95637912, 8.09436643, 8.3568723 , 8.75828268, 8.2621353 ,\n",
       "       7.72124332, 8.96225455, 8.33249996, 9.54564411, 8.57994899,\n",
       "       7.98504398, 7.87864737, 7.68968626, 8.18894154, 8.49167174,\n",
       "       7.83615121, 9.03995356, 8.10763648, 7.71811387, 7.95917852,\n",
       "       8.09433268, 8.3953019 , 8.23357805, 8.57321234, 8.5331793 ,\n",
       "       7.72612484, 7.98804049, 7.89552245, 8.23507908, 8.99608851,\n",
       "       8.09568698, 8.37517063, 7.8626583 , 7.80925972, 8.19179891,\n",
       "       8.94560959, 7.70363038, 8.52333339, 7.57365259, 8.45602601,\n",
       "       8.47996568, 7.63462923, 7.53108189, 8.47299564, 7.94443793,\n",
       "       7.82568706, 8.74154735, 7.58671148, 8.14569009, 8.4380015 ,\n",
       "       8.20640559, 8.55579467, 7.74929798, 8.89150978, 8.67236588,\n",
       "       8.20277342, 8.26891733, 8.37314946, 9.01330952, 7.64702201,\n",
       "       8.27093559, 9.55737807, 7.85152898, 8.23944092, 8.89642363,\n",
       "       8.38187939, 8.41399995, 9.1913672 , 9.03075991, 8.09912472,\n",
       "       8.11709732, 8.44335513, 8.29333675, 9.13855985, 7.68908728,\n",
       "       8.88938947, 8.67500723, 8.29074904, 7.95095807, 8.1437582 ,\n",
       "       7.71619913, 8.07937056, 8.39367602, 8.15906001, 7.98541673,\n",
       "       7.83300596, 8.08933283, 7.95802099, 8.31066862, 7.8857538 ,\n",
       "       8.99252305, 8.02555773, 8.07313513, 8.28081995, 8.15575936,\n",
       "       8.00621108, 8.08976123, 8.22043257, 8.31657682, 8.83602313,\n",
       "       8.0328711 , 9.01296292, 8.15766882, 7.90627461, 9.25312757,\n",
       "       7.86537712, 8.6192475 , 8.23158347, 8.23881818, 8.25362169,\n",
       "       8.22465932, 9.29442955, 7.84401314, 7.83630427, 7.92402398,\n",
       "       8.68541733, 7.87889305, 8.11548145, 7.83779695, 7.7957124 ,\n",
       "       8.08768537, 7.99674846, 8.1122386 , 8.777293  , 8.00842378,\n",
       "       8.09589682, 8.62835208, 8.20976851, 8.14466035, 8.20041507,\n",
       "       7.9036911 , 8.24543267, 8.85099647, 9.4101265 , 9.03367936,\n",
       "       8.39085172, 8.2232389 , 7.72999126, 7.90237404, 8.01121164,\n",
       "       7.7539632 , 7.7559452 , 7.92332222, 8.6321006 , 8.4049452 ,\n",
       "       9.34329686, 8.02190831, 8.25757314, 7.81868745, 8.43543755,\n",
       "       8.07934962, 7.9653898 , 9.17595679, 7.9330027 , 7.84354517,\n",
       "       8.21424155, 9.19344494, 8.18968547, 7.84165708, 8.08339457,\n",
       "       8.88810811, 8.0011153 , 8.50198091, 8.30764709, 8.00677687,\n",
       "       7.68433054, 7.87580167, 7.85103402, 8.13922779, 8.32318763,\n",
       "       9.48437083, 7.92263848, 8.32218209, 7.57009484, 8.38553861,\n",
       "       8.1699668 , 8.31033193, 7.78050462, 8.7374922 , 8.40525714,\n",
       "       8.70616557, 8.0288661 , 8.98711501, 8.787898  , 7.87891008,\n",
       "       8.81819777, 8.04705881, 8.14609773, 8.28815023, 7.71987897,\n",
       "       9.21917688, 8.80426732, 8.76816888, 8.56211386, 7.94266569,\n",
       "       8.49556261, 7.73883898, 7.87659182, 8.3467428 , 8.02454066,\n",
       "       8.20187436, 8.50764773, 8.21629946, 8.63133512, 8.07255055,\n",
       "       9.02071044, 8.24319248, 8.48862254, 8.12417123, 8.30476785,\n",
       "       7.67425308, 9.37160557, 9.28828821, 8.62266253, 7.94525889,\n",
       "       7.98605739, 8.15793401, 8.32623497, 8.44345091, 8.4471176 ,\n",
       "       7.81044797, 8.43423987, 7.73172983, 8.08228757, 8.40459473,\n",
       "       9.0138145 , 8.31764402, 7.94939966, 8.16027365, 8.72134293,\n",
       "       8.01540668, 8.04794678, 8.18996451, 7.61219212, 8.08732463,\n",
       "       7.9833331 , 8.15768555, 8.16839898, 8.2645655 , 7.80103439,\n",
       "       8.008978  , 9.46520877, 9.62376622, 7.80793527, 8.87479733,\n",
       "       8.3176284 , 8.31877653, 8.8193309 , 7.8777193 , 8.35052252,\n",
       "       8.2417828 , 7.96338128, 9.4974873 , 8.65128143, 9.4544036 ,\n",
       "       9.62649178, 8.364285  , 8.87091983, 8.20691142, 8.14356164])"
      ]
     },
     "execution_count": 25,
     "metadata": {},
     "output_type": "execute_result"
    }
   ],
   "source": [
    "predictions"
   ]
  },
  {
   "cell_type": "code",
   "execution_count": null,
   "id": "bf1c289c",
   "metadata": {},
   "outputs": [],
   "source": []
  }
 ],
 "metadata": {
  "kernelspec": {
   "display_name": "Python 3 (ipykernel)",
   "language": "python",
   "name": "python3"
  },
  "language_info": {
   "codemirror_mode": {
    "name": "ipython",
    "version": 3
   },
   "file_extension": ".py",
   "mimetype": "text/x-python",
   "name": "python",
   "nbconvert_exporter": "python",
   "pygments_lexer": "ipython3",
   "version": "3.11.5"
  }
 },
 "nbformat": 4,
 "nbformat_minor": 5
}
